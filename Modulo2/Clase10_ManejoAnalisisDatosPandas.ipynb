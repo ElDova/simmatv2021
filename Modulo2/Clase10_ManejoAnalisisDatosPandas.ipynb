{
 "cells": [
  {
   "cell_type": "markdown",
   "metadata": {},
   "source": [
    "# Aplicando Python para análisis de precios: descarga, manejo y análisis de datos"
   ]
  },
  {
   "cell_type": "markdown",
   "metadata": {},
   "source": [
    "<img style=\"float: right; margin: 0px 0px 15px 15px;\" src=\"https://upload.wikimedia.org/wikipedia/commons/0/0a/Python.svg\" width=\"300px\" height=\"100px\" />\n",
    "\n",
    "> En esta y en las siguientes dos clases veremos un caso de aplicación de simulación montecarlo en la toma de decisiones. Para lograr este objetivo, primero veremos (en esta clase) como manipular datos con *pandas*, tanto desde un archivo local de excel como remotamente desde Yahoo Finance.\n",
    "\n",
    "> Python Data Analysis Library: pandas es una librería de código abierto, fácil de usar y que provee alto rendimiento en structuras de datos y herramientas de análisis de datos para el lenguaje de programación Python.\n",
    "\n",
    "**Referencias:**\n",
    "- http://pandas.pydata.org/\n",
    "- http://www.learndatasci.com/python-finance-part-yahoo-finance-api-pandas-matplotlib/\n",
    "- https://www.datacamp.com/community/tutorials/python-excel-tutorial"
   ]
  },
  {
   "cell_type": "markdown",
   "metadata": {},
   "source": [
    "## 0. Motivación\n",
    "\n",
    "<img style=\"float: right; margin: 0px 0px 15px 15px;\" src=\"https://upload.wikimedia.org/wikipedia/commons/d/d7/Philippine-stock-market-board.jpg\" width=\"400px\" height=\"125px\" />\n",
    "\n",
    "Hace menos de dos décadas, los instrumentos financieros estaban en la cúspide de la popularidad. Las instituciones financieras de todo el mundo estaban negociando miles de millones de dólares de estos instrumentos a diario, y los analistas cuantitativos estaban modelándolos utilizando el cálculo estocástico y el poderoso `C++`.\n",
    "\n",
    "Sin embargo, el avance en los últimos años ha sido impresionante y las cosas han cambiado. Por una parte, la [crisis financiera del 2008](https://es.wikipedia.org/wiki/Crisis_financiera_de_2008) fue producida por los instrumentos financieros llamados *derivados*. Por otra parte, los volúmenes transaccionales han bajado y la demanda de modelado con `C++` se ha marchitado con ellos. Además, un nuevo jugador entró en la competencia... `¡Python!`\n",
    "\n",
    "`Python` ha estado ganando muchos seguidores en la industria financiera en los últimos años y con razón. No en vano, junto a `R` son los lenguajes de programación más utilizados en cuanto a análisis financiero."
   ]
  },
  {
   "cell_type": "markdown",
   "metadata": {},
   "source": [
    "## 1. Descarga de datos de Yahoo! Finance\n",
    "Para esto utilizaremos el paquete *pandas_datareader*.\n",
    "\n",
    "**Nota**: Usualmente, las distribuciones de Python no cuentan, por defecto, con el paquete *pandas_datareader*. Por lo que será necesario instalarlo aparte:\n",
    "- buscar en inicio \"Anaconda prompt\" y ejecutarlo como administrador;\n",
    "- el siguiente comando instala el paquete en Anaconda: *conda install pandas-datareader*;\n",
    "- una vez finalice la instalación correr el comando: *conda list*, y buscar que sí se haya instalado pandas-datareader"
   ]
  },
  {
   "cell_type": "code",
   "execution_count": 1,
   "metadata": {},
   "outputs": [],
   "source": [
    "# Importar el modulo data del paquete pandas_datareader. La comunidad lo importa con el nombre de web\n",
    "from pandas_datareader import data as web"
   ]
  },
  {
   "cell_type": "code",
   "execution_count": 2,
   "metadata": {},
   "outputs": [],
   "source": [
    "# Librerías estándar para arreglos y gráficos\n",
    "from matplotlib import pyplot as plt\n",
    "import pandas as pd\n",
    "import numpy as np"
   ]
  },
  {
   "cell_type": "markdown",
   "metadata": {},
   "source": [
    "Ver la siguiente función..."
   ]
  },
  {
   "cell_type": "code",
   "execution_count": 4,
   "metadata": {},
   "outputs": [],
   "source": [
    "# Función para descargar precios de cierre ajustados de varios activos a la vez:\n",
    "def get_closes(tickers, start_date=None, end_date=None):\n",
    "    # Fecha inicio por defecto (start_date='2010-01-01') y fecha fin por defecto (end_date=today)\n",
    "    # Frecuencia de muestreo por defecto (freq='d')\n",
    "    closes = web.DataReader(tickers, start=start_date, end=end_date, data_source='yahoo')['Adj Close']\n",
    "    closes = closes.sort_index()\n",
    "    return closes"
   ]
  },
  {
   "cell_type": "code",
   "execution_count": 3,
   "metadata": {},
   "outputs": [],
   "source": [
    "# Instrumentos a descargar (Apple, Walmart, IBM, Nike)\n",
    "names = [\"AAPL\", \"WMT\", \"IBM\", \"NKE\"]\n",
    "# Fechas: inicios 2011 a finales de 2019\n",
    "start = \"2011-01-01\"\n",
    "end = \"2019-12-31\""
   ]
  },
  {
   "cell_type": "code",
   "execution_count": 5,
   "metadata": {},
   "outputs": [],
   "source": [
    "# Obtenemos los precios ajustados en el cierre\n",
    "closes = get_closes(tickers=names,\n",
    "                    start_date=start,\n",
    "                    end_date=end)"
   ]
  },
  {
   "cell_type": "code",
   "execution_count": 7,
   "metadata": {},
   "outputs": [
    {
     "data": {
      "text/html": [
       "<div>\n",
       "<style scoped>\n",
       "    .dataframe tbody tr th:only-of-type {\n",
       "        vertical-align: middle;\n",
       "    }\n",
       "\n",
       "    .dataframe tbody tr th {\n",
       "        vertical-align: top;\n",
       "    }\n",
       "\n",
       "    .dataframe thead th {\n",
       "        text-align: right;\n",
       "    }\n",
       "</style>\n",
       "<table border=\"1\" class=\"dataframe\">\n",
       "  <thead>\n",
       "    <tr style=\"text-align: right;\">\n",
       "      <th>Symbols</th>\n",
       "      <th>AAPL</th>\n",
       "      <th>WMT</th>\n",
       "      <th>IBM</th>\n",
       "      <th>NKE</th>\n",
       "    </tr>\n",
       "    <tr>\n",
       "      <th>Date</th>\n",
       "      <th></th>\n",
       "      <th></th>\n",
       "      <th></th>\n",
       "      <th></th>\n",
       "    </tr>\n",
       "  </thead>\n",
       "  <tbody>\n",
       "    <tr>\n",
       "      <th>2011-01-03</th>\n",
       "      <td>10.121364</td>\n",
       "      <td>42.486691</td>\n",
       "      <td>103.839554</td>\n",
       "      <td>18.973982</td>\n",
       "    </tr>\n",
       "    <tr>\n",
       "      <th>2011-01-04</th>\n",
       "      <td>10.174186</td>\n",
       "      <td>42.650211</td>\n",
       "      <td>103.952209</td>\n",
       "      <td>18.506742</td>\n",
       "    </tr>\n",
       "    <tr>\n",
       "      <th>2011-01-05</th>\n",
       "      <td>10.257413</td>\n",
       "      <td>42.369881</td>\n",
       "      <td>103.536774</td>\n",
       "      <td>18.627964</td>\n",
       "    </tr>\n",
       "    <tr>\n",
       "      <th>2011-01-06</th>\n",
       "      <td>10.249121</td>\n",
       "      <td>42.019444</td>\n",
       "      <td>104.670395</td>\n",
       "      <td>18.460466</td>\n",
       "    </tr>\n",
       "    <tr>\n",
       "      <th>2011-01-07</th>\n",
       "      <td>10.322517</td>\n",
       "      <td>42.112896</td>\n",
       "      <td>104.156418</td>\n",
       "      <td>18.409769</td>\n",
       "    </tr>\n",
       "  </tbody>\n",
       "</table>\n",
       "</div>"
      ],
      "text/plain": [
       "Symbols          AAPL        WMT         IBM        NKE\n",
       "Date                                                   \n",
       "2011-01-03  10.121364  42.486691  103.839554  18.973982\n",
       "2011-01-04  10.174186  42.650211  103.952209  18.506742\n",
       "2011-01-05  10.257413  42.369881  103.536774  18.627964\n",
       "2011-01-06  10.249121  42.019444  104.670395  18.460466\n",
       "2011-01-07  10.322517  42.112896  104.156418  18.409769"
      ]
     },
     "execution_count": 7,
     "metadata": {},
     "output_type": "execute_result"
    }
   ],
   "source": [
    "# Observemos los primeros datos\n",
    "closes.head()"
   ]
  },
  {
   "cell_type": "code",
   "execution_count": 8,
   "metadata": {},
   "outputs": [
    {
     "data": {
      "text/html": [
       "<div>\n",
       "<style scoped>\n",
       "    .dataframe tbody tr th:only-of-type {\n",
       "        vertical-align: middle;\n",
       "    }\n",
       "\n",
       "    .dataframe tbody tr th {\n",
       "        vertical-align: top;\n",
       "    }\n",
       "\n",
       "    .dataframe thead th {\n",
       "        text-align: right;\n",
       "    }\n",
       "</style>\n",
       "<table border=\"1\" class=\"dataframe\">\n",
       "  <thead>\n",
       "    <tr style=\"text-align: right;\">\n",
       "      <th>Symbols</th>\n",
       "      <th>AAPL</th>\n",
       "      <th>WMT</th>\n",
       "      <th>IBM</th>\n",
       "      <th>NKE</th>\n",
       "    </tr>\n",
       "    <tr>\n",
       "      <th>Date</th>\n",
       "      <th></th>\n",
       "      <th></th>\n",
       "      <th></th>\n",
       "      <th></th>\n",
       "    </tr>\n",
       "  </thead>\n",
       "  <tbody>\n",
       "    <tr>\n",
       "      <th>2019-12-24</th>\n",
       "      <td>70.234581</td>\n",
       "      <td>116.601074</td>\n",
       "      <td>125.164146</td>\n",
       "      <td>98.794083</td>\n",
       "    </tr>\n",
       "    <tr>\n",
       "      <th>2019-12-26</th>\n",
       "      <td>71.628067</td>\n",
       "      <td>116.610832</td>\n",
       "      <td>125.099251</td>\n",
       "      <td>99.356407</td>\n",
       "    </tr>\n",
       "    <tr>\n",
       "      <th>2019-12-27</th>\n",
       "      <td>71.600876</td>\n",
       "      <td>116.679131</td>\n",
       "      <td>125.433052</td>\n",
       "      <td>100.204857</td>\n",
       "    </tr>\n",
       "    <tr>\n",
       "      <th>2019-12-30</th>\n",
       "      <td>72.025833</td>\n",
       "      <td>116.493752</td>\n",
       "      <td>123.151955</td>\n",
       "      <td>99.445206</td>\n",
       "    </tr>\n",
       "    <tr>\n",
       "      <th>2019-12-31</th>\n",
       "      <td>72.552094</td>\n",
       "      <td>115.947388</td>\n",
       "      <td>124.292496</td>\n",
       "      <td>99.948349</td>\n",
       "    </tr>\n",
       "  </tbody>\n",
       "</table>\n",
       "</div>"
      ],
      "text/plain": [
       "Symbols          AAPL         WMT         IBM         NKE\n",
       "Date                                                     \n",
       "2019-12-24  70.234581  116.601074  125.164146   98.794083\n",
       "2019-12-26  71.628067  116.610832  125.099251   99.356407\n",
       "2019-12-27  71.600876  116.679131  125.433052  100.204857\n",
       "2019-12-30  72.025833  116.493752  123.151955   99.445206\n",
       "2019-12-31  72.552094  115.947388  124.292496   99.948349"
      ]
     },
     "execution_count": 8,
     "metadata": {},
     "output_type": "execute_result"
    }
   ],
   "source": [
    "# Observemos los últimos datos\n",
    "closes.tail()"
   ]
  },
  {
   "cell_type": "code",
   "execution_count": 9,
   "metadata": {},
   "outputs": [
    {
     "data": {
      "text/plain": [
       "pandas.core.frame.DataFrame"
      ]
     },
     "execution_count": 9,
     "metadata": {},
     "output_type": "execute_result"
    }
   ],
   "source": [
    "type(closes)"
   ]
  },
  {
   "cell_type": "markdown",
   "metadata": {},
   "source": [
    "¿Cómo lucen estos datos?"
   ]
  },
  {
   "cell_type": "code",
   "execution_count": 10,
   "metadata": {},
   "outputs": [
    {
     "data": {
      "text/plain": [
       "<matplotlib.axes._subplots.AxesSubplot at 0x7fba4d398c50>"
      ]
     },
     "execution_count": 10,
     "metadata": {},
     "output_type": "execute_result"
    },
    {
     "data": {
      "image/png": "[encoded data removed]",
      "text/plain": [
       "<Figure size 432x288 with 1 Axes>"
      ]
     },
     "metadata": {
      "needs_background": "light"
     },
     "output_type": "display_data"
    }
   ],
   "source": [
    "# Graficar\n",
    "closes.plot()"
   ]
  },
  {
   "cell_type": "markdown",
   "metadata": {},
   "source": [
    "Una vez tenemos los datos, podemos operar con ellos. Por ejemplo un resumen de datos estadísticos se podría obtener con"
   ]
  },
  {
   "cell_type": "code",
   "execution_count": 11,
   "metadata": {},
   "outputs": [
    {
     "data": {
      "text/html": [
       "<div>\n",
       "<style scoped>\n",
       "    .dataframe tbody tr th:only-of-type {\n",
       "        vertical-align: middle;\n",
       "    }\n",
       "\n",
       "    .dataframe tbody tr th {\n",
       "        vertical-align: top;\n",
       "    }\n",
       "\n",
       "    .dataframe thead th {\n",
       "        text-align: right;\n",
       "    }\n",
       "</style>\n",
       "<table border=\"1\" class=\"dataframe\">\n",
       "  <thead>\n",
       "    <tr style=\"text-align: right;\">\n",
       "      <th>Symbols</th>\n",
       "      <th>AAPL</th>\n",
       "      <th>WMT</th>\n",
       "      <th>IBM</th>\n",
       "      <th>NKE</th>\n",
       "    </tr>\n",
       "  </thead>\n",
       "  <tbody>\n",
       "    <tr>\n",
       "      <th>count</th>\n",
       "      <td>2264.000000</td>\n",
       "      <td>2264.000000</td>\n",
       "      <td>2264.000000</td>\n",
       "      <td>2264.000000</td>\n",
       "    </tr>\n",
       "    <tr>\n",
       "      <th>mean</th>\n",
       "      <td>27.683974</td>\n",
       "      <td>68.468229</td>\n",
       "      <td>129.231899</td>\n",
       "      <td>47.021434</td>\n",
       "    </tr>\n",
       "    <tr>\n",
       "      <th>std</th>\n",
       "      <td>13.644428</td>\n",
       "      <td>18.178750</td>\n",
       "      <td>11.988357</td>\n",
       "      <td>21.178085</td>\n",
       "    </tr>\n",
       "    <tr>\n",
       "      <th>min</th>\n",
       "      <td>9.683733</td>\n",
       "      <td>38.489441</td>\n",
       "      <td>93.460327</td>\n",
       "      <td>16.687525</td>\n",
       "    </tr>\n",
       "    <tr>\n",
       "      <th>25%</th>\n",
       "      <td>16.772309</td>\n",
       "      <td>58.498715</td>\n",
       "      <td>121.884653</td>\n",
       "      <td>27.134572</td>\n",
       "    </tr>\n",
       "    <tr>\n",
       "      <th>50%</th>\n",
       "      <td>24.896622</td>\n",
       "      <td>64.446381</td>\n",
       "      <td>128.639221</td>\n",
       "      <td>48.469658</td>\n",
       "    </tr>\n",
       "    <tr>\n",
       "      <th>75%</th>\n",
       "      <td>37.531071</td>\n",
       "      <td>76.221758</td>\n",
       "      <td>138.668064</td>\n",
       "      <td>59.460803</td>\n",
       "    </tr>\n",
       "    <tr>\n",
       "      <th>max</th>\n",
       "      <td>72.552094</td>\n",
       "      <td>118.327995</td>\n",
       "      <td>157.775299</td>\n",
       "      <td>100.204857</td>\n",
       "    </tr>\n",
       "  </tbody>\n",
       "</table>\n",
       "</div>"
      ],
      "text/plain": [
       "Symbols         AAPL          WMT          IBM          NKE\n",
       "count    2264.000000  2264.000000  2264.000000  2264.000000\n",
       "mean       27.683974    68.468229   129.231899    47.021434\n",
       "std        13.644428    18.178750    11.988357    21.178085\n",
       "min         9.683733    38.489441    93.460327    16.687525\n",
       "25%        16.772309    58.498715   121.884653    27.134572\n",
       "50%        24.896622    64.446381   128.639221    48.469658\n",
       "75%        37.531071    76.221758   138.668064    59.460803\n",
       "max        72.552094   118.327995   157.775299   100.204857"
      ]
     },
     "execution_count": 11,
     "metadata": {},
     "output_type": "execute_result"
    }
   ],
   "source": [
    "# Método describe\n",
    "closes.describe()"
   ]
  },
  {
   "cell_type": "markdown",
   "metadata": {},
   "source": [
    "## 2. Rendimientos diarios\n",
    "\n",
    "Para una sucesión de precios $\\{S_t\\}_{t=0}^{n}$, el rendimiento simple $R_t$ se define como el el cambio porcentual\n",
    "$$\n",
    "R_t=\\frac{S_t-S_{t-1}}{S_{t-1}}\n",
    "$$\n",
    "para $t=1,\\ldots,n$.\n",
    "\n",
    "Para el ejemplo en curso, ¿cómo calcular esto?"
   ]
  },
  {
   "cell_type": "code",
   "execution_count": 15,
   "metadata": {},
   "outputs": [],
   "source": [
    "# Método pct_change\n",
    "ret = closes.pct_change().dropna()"
   ]
  },
  {
   "cell_type": "code",
   "execution_count": 16,
   "metadata": {},
   "outputs": [
    {
     "data": {
      "text/html": [
       "<div>\n",
       "<style scoped>\n",
       "    .dataframe tbody tr th:only-of-type {\n",
       "        vertical-align: middle;\n",
       "    }\n",
       "\n",
       "    .dataframe tbody tr th {\n",
       "        vertical-align: top;\n",
       "    }\n",
       "\n",
       "    .dataframe thead th {\n",
       "        text-align: right;\n",
       "    }\n",
       "</style>\n",
       "<table border=\"1\" class=\"dataframe\">\n",
       "  <thead>\n",
       "    <tr style=\"text-align: right;\">\n",
       "      <th>Symbols</th>\n",
       "      <th>AAPL</th>\n",
       "      <th>WMT</th>\n",
       "      <th>IBM</th>\n",
       "      <th>NKE</th>\n",
       "    </tr>\n",
       "    <tr>\n",
       "      <th>Date</th>\n",
       "      <th></th>\n",
       "      <th></th>\n",
       "      <th></th>\n",
       "      <th></th>\n",
       "    </tr>\n",
       "  </thead>\n",
       "  <tbody>\n",
       "    <tr>\n",
       "      <th>2011-01-04</th>\n",
       "      <td>0.005219</td>\n",
       "      <td>0.003849</td>\n",
       "      <td>0.001085</td>\n",
       "      <td>-0.024625</td>\n",
       "    </tr>\n",
       "    <tr>\n",
       "      <th>2011-01-05</th>\n",
       "      <td>0.008180</td>\n",
       "      <td>-0.006573</td>\n",
       "      <td>-0.003996</td>\n",
       "      <td>0.006550</td>\n",
       "    </tr>\n",
       "    <tr>\n",
       "      <th>2011-01-06</th>\n",
       "      <td>-0.000808</td>\n",
       "      <td>-0.008271</td>\n",
       "      <td>0.010949</td>\n",
       "      <td>-0.008992</td>\n",
       "    </tr>\n",
       "    <tr>\n",
       "      <th>2011-01-07</th>\n",
       "      <td>0.007161</td>\n",
       "      <td>0.002224</td>\n",
       "      <td>-0.004910</td>\n",
       "      <td>-0.002746</td>\n",
       "    </tr>\n",
       "    <tr>\n",
       "      <th>2011-01-10</th>\n",
       "      <td>0.018833</td>\n",
       "      <td>-0.006472</td>\n",
       "      <td>-0.001961</td>\n",
       "      <td>0.007662</td>\n",
       "    </tr>\n",
       "  </tbody>\n",
       "</table>\n",
       "</div>"
      ],
      "text/plain": [
       "Symbols         AAPL       WMT       IBM       NKE\n",
       "Date                                              \n",
       "2011-01-04  0.005219  0.003849  0.001085 -0.024625\n",
       "2011-01-05  0.008180 -0.006573 -0.003996  0.006550\n",
       "2011-01-06 -0.000808 -0.008271  0.010949 -0.008992\n",
       "2011-01-07  0.007161  0.002224 -0.004910 -0.002746\n",
       "2011-01-10  0.018833 -0.006472 -0.001961  0.007662"
      ]
     },
     "execution_count": 16,
     "metadata": {},
     "output_type": "execute_result"
    }
   ],
   "source": [
    "ret.head()"
   ]
  },
  {
   "cell_type": "code",
   "execution_count": 17,
   "metadata": {},
   "outputs": [
    {
     "data": {
      "text/html": [
       "<div>\n",
       "<style scoped>\n",
       "    .dataframe tbody tr th:only-of-type {\n",
       "        vertical-align: middle;\n",
       "    }\n",
       "\n",
       "    .dataframe tbody tr th {\n",
       "        vertical-align: top;\n",
       "    }\n",
       "\n",
       "    .dataframe thead th {\n",
       "        text-align: right;\n",
       "    }\n",
       "</style>\n",
       "<table border=\"1\" class=\"dataframe\">\n",
       "  <thead>\n",
       "    <tr style=\"text-align: right;\">\n",
       "      <th>Symbols</th>\n",
       "      <th>AAPL</th>\n",
       "      <th>WMT</th>\n",
       "      <th>IBM</th>\n",
       "      <th>NKE</th>\n",
       "    </tr>\n",
       "    <tr>\n",
       "      <th>Date</th>\n",
       "      <th></th>\n",
       "      <th></th>\n",
       "      <th></th>\n",
       "      <th></th>\n",
       "    </tr>\n",
       "  </thead>\n",
       "  <tbody>\n",
       "    <tr>\n",
       "      <th>2019-12-24</th>\n",
       "      <td>0.000951</td>\n",
       "      <td>0.004033</td>\n",
       "      <td>-0.004205</td>\n",
       "      <td>0.001000</td>\n",
       "    </tr>\n",
       "    <tr>\n",
       "      <th>2019-12-26</th>\n",
       "      <td>0.019840</td>\n",
       "      <td>0.000084</td>\n",
       "      <td>-0.000518</td>\n",
       "      <td>0.005692</td>\n",
       "    </tr>\n",
       "    <tr>\n",
       "      <th>2019-12-27</th>\n",
       "      <td>-0.000380</td>\n",
       "      <td>0.000586</td>\n",
       "      <td>0.002668</td>\n",
       "      <td>0.008539</td>\n",
       "    </tr>\n",
       "    <tr>\n",
       "      <th>2019-12-30</th>\n",
       "      <td>0.005935</td>\n",
       "      <td>-0.001589</td>\n",
       "      <td>-0.018186</td>\n",
       "      <td>-0.007581</td>\n",
       "    </tr>\n",
       "    <tr>\n",
       "      <th>2019-12-31</th>\n",
       "      <td>0.007307</td>\n",
       "      <td>-0.004690</td>\n",
       "      <td>0.009261</td>\n",
       "      <td>0.005060</td>\n",
       "    </tr>\n",
       "  </tbody>\n",
       "</table>\n",
       "</div>"
      ],
      "text/plain": [
       "Symbols         AAPL       WMT       IBM       NKE\n",
       "Date                                              \n",
       "2019-12-24  0.000951  0.004033 -0.004205  0.001000\n",
       "2019-12-26  0.019840  0.000084 -0.000518  0.005692\n",
       "2019-12-27 -0.000380  0.000586  0.002668  0.008539\n",
       "2019-12-30  0.005935 -0.001589 -0.018186 -0.007581\n",
       "2019-12-31  0.007307 -0.004690  0.009261  0.005060"
      ]
     },
     "execution_count": 17,
     "metadata": {},
     "output_type": "execute_result"
    }
   ],
   "source": [
    "ret.tail()"
   ]
  },
  {
   "cell_type": "markdown",
   "metadata": {},
   "source": [
    "y la gráfica de los rendimientos se puede obtener como..."
   ]
  },
  {
   "cell_type": "code",
   "execution_count": 18,
   "metadata": {},
   "outputs": [
    {
     "data": {
      "text/plain": [
       "<matplotlib.axes._subplots.AxesSubplot at 0x7fba4bf23350>"
      ]
     },
     "execution_count": 18,
     "metadata": {},
     "output_type": "execute_result"
    },
    {
     "data": {
      "image/png": "[encoded data removed]",
      "text/plain": [
       "<Figure size 432x288 with 1 Axes>"
      ]
     },
     "metadata": {
      "needs_background": "light"
     },
     "output_type": "display_data"
    }
   ],
   "source": [
    "# Gráfica\n",
    "ret.plot()"
   ]
  },
  {
   "cell_type": "code",
   "execution_count": 19,
   "metadata": {},
   "outputs": [
    {
     "data": {
      "text/plain": [
       "<matplotlib.axes._subplots.AxesSubplot at 0x7fba4c2973d0>"
      ]
     },
     "execution_count": 19,
     "metadata": {},
     "output_type": "execute_result"
    },
    {
     "data": {
      "image/png": "[encoded data removed]",
      "text/plain": [
       "<Figure size 432x288 with 1 Axes>"
      ]
     },
     "metadata": {
      "needs_background": "light"
     },
     "output_type": "display_data"
    }
   ],
   "source": [
    "closes.plot()"
   ]
  },
  {
   "cell_type": "markdown",
   "metadata": {},
   "source": [
    "Donde se observa que el rendimiento tiene una tendencia constante y, por tanto, se puede plantear la hipótesis de que se puede modelar usando un proceso estocástico estacionario en media."
   ]
  },
  {
   "cell_type": "markdown",
   "metadata": {},
   "source": [
    "Otro rendimiento usado con frecuencia es el rendimiento continuamente compuesto o rendimiento logaritmico. Éste, está definido como\n",
    "\n",
    "$$\n",
    "r_t=\\ln\\left(\\frac{S_t}{S_{t-1}}\\right).\n",
    "$$\n",
    "\n",
    "Es fácil darse cuenta que $r_t=\\ln(1+R_t)$.\n",
    "\n",
    "**Nota:** ver gráficamente que si $0\\leq|x|\\ll 1$, entonces $\\ln(1+x)\\approx x$.\n",
    "\n",
    "Para este caso, la fórmula del rendimiento continuamente compuesto se translada facilmente a código Python (obtener, graficar y comparar)."
   ]
  },
  {
   "cell_type": "code",
   "execution_count": 22,
   "metadata": {},
   "outputs": [],
   "source": [
    "ret_log = np.log(closes / closes.shift()).dropna()"
   ]
  },
  {
   "cell_type": "code",
   "execution_count": 23,
   "metadata": {},
   "outputs": [
    {
     "data": {
      "text/html": [
       "<div>\n",
       "<style scoped>\n",
       "    .dataframe tbody tr th:only-of-type {\n",
       "        vertical-align: middle;\n",
       "    }\n",
       "\n",
       "    .dataframe tbody tr th {\n",
       "        vertical-align: top;\n",
       "    }\n",
       "\n",
       "    .dataframe thead th {\n",
       "        text-align: right;\n",
       "    }\n",
       "</style>\n",
       "<table border=\"1\" class=\"dataframe\">\n",
       "  <thead>\n",
       "    <tr style=\"text-align: right;\">\n",
       "      <th>Symbols</th>\n",
       "      <th>AAPL</th>\n",
       "      <th>WMT</th>\n",
       "      <th>IBM</th>\n",
       "      <th>NKE</th>\n",
       "    </tr>\n",
       "    <tr>\n",
       "      <th>Date</th>\n",
       "      <th></th>\n",
       "      <th></th>\n",
       "      <th></th>\n",
       "      <th></th>\n",
       "    </tr>\n",
       "  </thead>\n",
       "  <tbody>\n",
       "    <tr>\n",
       "      <th>2011-01-04</th>\n",
       "      <td>0.005205</td>\n",
       "      <td>0.003841</td>\n",
       "      <td>0.001084</td>\n",
       "      <td>-0.024934</td>\n",
       "    </tr>\n",
       "    <tr>\n",
       "      <th>2011-01-05</th>\n",
       "      <td>0.008147</td>\n",
       "      <td>-0.006594</td>\n",
       "      <td>-0.004004</td>\n",
       "      <td>0.006529</td>\n",
       "    </tr>\n",
       "    <tr>\n",
       "      <th>2011-01-06</th>\n",
       "      <td>-0.000809</td>\n",
       "      <td>-0.008305</td>\n",
       "      <td>0.010889</td>\n",
       "      <td>-0.009032</td>\n",
       "    </tr>\n",
       "    <tr>\n",
       "      <th>2011-01-07</th>\n",
       "      <td>0.007136</td>\n",
       "      <td>0.002222</td>\n",
       "      <td>-0.004923</td>\n",
       "      <td>-0.002750</td>\n",
       "    </tr>\n",
       "    <tr>\n",
       "      <th>2011-01-10</th>\n",
       "      <td>0.018658</td>\n",
       "      <td>-0.006493</td>\n",
       "      <td>-0.001963</td>\n",
       "      <td>0.007633</td>\n",
       "    </tr>\n",
       "  </tbody>\n",
       "</table>\n",
       "</div>"
      ],
      "text/plain": [
       "Symbols         AAPL       WMT       IBM       NKE\n",
       "Date                                              \n",
       "2011-01-04  0.005205  0.003841  0.001084 -0.024934\n",
       "2011-01-05  0.008147 -0.006594 -0.004004  0.006529\n",
       "2011-01-06 -0.000809 -0.008305  0.010889 -0.009032\n",
       "2011-01-07  0.007136  0.002222 -0.004923 -0.002750\n",
       "2011-01-10  0.018658 -0.006493 -0.001963  0.007633"
      ]
     },
     "execution_count": 23,
     "metadata": {},
     "output_type": "execute_result"
    }
   ],
   "source": [
    "# Rendimiento logarítmico\n",
    "ret_log.head()"
   ]
  },
  {
   "cell_type": "code",
   "execution_count": 26,
   "metadata": {},
   "outputs": [
    {
     "data": {
      "text/plain": [
       "<matplotlib.axes._subplots.AxesSubplot at 0x7fba4c24e550>"
      ]
     },
     "execution_count": 26,
     "metadata": {},
     "output_type": "execute_result"
    },
    {
     "data": {
      "image/png": "[encoded data removed]",
      "text/plain": [
       "<Figure size 432x288 with 1 Axes>"
      ]
     },
     "metadata": {
      "needs_background": "light"
     },
     "output_type": "display_data"
    }
   ],
   "source": [
    "# Gráfica\n",
    "ret_log.plot()"
   ]
  },
  {
   "cell_type": "code",
   "execution_count": 27,
   "metadata": {},
   "outputs": [
    {
     "data": {
      "text/html": [
       "<div>\n",
       "<style scoped>\n",
       "    .dataframe tbody tr th:only-of-type {\n",
       "        vertical-align: middle;\n",
       "    }\n",
       "\n",
       "    .dataframe tbody tr th {\n",
       "        vertical-align: top;\n",
       "    }\n",
       "\n",
       "    .dataframe thead th {\n",
       "        text-align: right;\n",
       "    }\n",
       "</style>\n",
       "<table border=\"1\" class=\"dataframe\">\n",
       "  <thead>\n",
       "    <tr style=\"text-align: right;\">\n",
       "      <th>Symbols</th>\n",
       "      <th>AAPL</th>\n",
       "      <th>WMT</th>\n",
       "      <th>IBM</th>\n",
       "      <th>NKE</th>\n",
       "    </tr>\n",
       "    <tr>\n",
       "      <th>Date</th>\n",
       "      <th></th>\n",
       "      <th></th>\n",
       "      <th></th>\n",
       "      <th></th>\n",
       "    </tr>\n",
       "  </thead>\n",
       "  <tbody>\n",
       "    <tr>\n",
       "      <th>2011-01-04</th>\n",
       "      <td>1.357112e-05</td>\n",
       "      <td>7.387504e-06</td>\n",
       "      <td>5.880798e-07</td>\n",
       "      <td>3.082733e-04</td>\n",
       "    </tr>\n",
       "    <tr>\n",
       "      <th>2011-01-05</th>\n",
       "      <td>3.327671e-05</td>\n",
       "      <td>2.169587e-05</td>\n",
       "      <td>8.006992e-06</td>\n",
       "      <td>2.135887e-05</td>\n",
       "    </tr>\n",
       "    <tr>\n",
       "      <th>2011-01-06</th>\n",
       "      <td>3.269398e-07</td>\n",
       "      <td>3.439369e-05</td>\n",
       "      <td>5.950603e-05</td>\n",
       "      <td>4.066959e-05</td>\n",
       "    </tr>\n",
       "    <tr>\n",
       "      <th>2011-01-07</th>\n",
       "      <td>2.552010e-05</td>\n",
       "      <td>2.469491e-06</td>\n",
       "      <td>1.209579e-05</td>\n",
       "      <td>3.777903e-06</td>\n",
       "    </tr>\n",
       "    <tr>\n",
       "      <th>2011-01-10</th>\n",
       "      <td>1.751431e-04</td>\n",
       "      <td>2.103327e-05</td>\n",
       "      <td>1.924479e-06</td>\n",
       "      <td>2.920421e-05</td>\n",
       "    </tr>\n",
       "    <tr>\n",
       "      <th>...</th>\n",
       "      <td>...</td>\n",
       "      <td>...</td>\n",
       "      <td>...</td>\n",
       "      <td>...</td>\n",
       "    </tr>\n",
       "    <tr>\n",
       "      <th>2019-12-24</th>\n",
       "      <td>4.514606e-07</td>\n",
       "      <td>8.109074e-06</td>\n",
       "      <td>8.866514e-06</td>\n",
       "      <td>4.993422e-07</td>\n",
       "    </tr>\n",
       "    <tr>\n",
       "      <th>2019-12-26</th>\n",
       "      <td>1.942566e-04</td>\n",
       "      <td>3.501563e-09</td>\n",
       "      <td>1.344594e-07</td>\n",
       "      <td>1.613757e-05</td>\n",
       "    </tr>\n",
       "    <tr>\n",
       "      <th>2019-12-27</th>\n",
       "      <td>7.207240e-08</td>\n",
       "      <td>1.714522e-07</td>\n",
       "      <td>3.553570e-06</td>\n",
       "      <td>3.625491e-05</td>\n",
       "    </tr>\n",
       "    <tr>\n",
       "      <th>2019-12-30</th>\n",
       "      <td>1.754324e-05</td>\n",
       "      <td>1.263471e-06</td>\n",
       "      <td>1.673938e-04</td>\n",
       "      <td>2.888170e-05</td>\n",
       "    </tr>\n",
       "    <tr>\n",
       "      <th>2019-12-31</th>\n",
       "      <td>2.656353e-05</td>\n",
       "      <td>1.103289e-05</td>\n",
       "      <td>4.262242e-05</td>\n",
       "      <td>1.275628e-05</td>\n",
       "    </tr>\n",
       "  </tbody>\n",
       "</table>\n",
       "<p>2263 rows × 4 columns</p>\n",
       "</div>"
      ],
      "text/plain": [
       "Symbols             AAPL           WMT           IBM           NKE\n",
       "Date                                                              \n",
       "2011-01-04  1.357112e-05  7.387504e-06  5.880798e-07  3.082733e-04\n",
       "2011-01-05  3.327671e-05  2.169587e-05  8.006992e-06  2.135887e-05\n",
       "2011-01-06  3.269398e-07  3.439369e-05  5.950603e-05  4.066959e-05\n",
       "2011-01-07  2.552010e-05  2.469491e-06  1.209579e-05  3.777903e-06\n",
       "2011-01-10  1.751431e-04  2.103327e-05  1.924479e-06  2.920421e-05\n",
       "...                  ...           ...           ...           ...\n",
       "2019-12-24  4.514606e-07  8.109074e-06  8.866514e-06  4.993422e-07\n",
       "2019-12-26  1.942566e-04  3.501563e-09  1.344594e-07  1.613757e-05\n",
       "2019-12-27  7.207240e-08  1.714522e-07  3.553570e-06  3.625491e-05\n",
       "2019-12-30  1.754324e-05  1.263471e-06  1.673938e-04  2.888170e-05\n",
       "2019-12-31  2.656353e-05  1.103289e-05  4.262242e-05  1.275628e-05\n",
       "\n",
       "[2263 rows x 4 columns]"
      ]
     },
     "execution_count": 27,
     "metadata": {},
     "output_type": "execute_result"
    }
   ],
   "source": [
    "# Valor absoluto de la diferencia\n",
    "np.abs(ret - ret_log)"
   ]
  },
  {
   "cell_type": "markdown",
   "metadata": {},
   "source": [
    "Donde se observa que el rendimiento tiene una tendencia constante y, por tanto, se puede plantear la hipótesis de que se puede modelar usando un proceso estocástico estacionario en media.\n",
    "\n",
    "Podemos incluso plantear la hipótesis de que los log rendimientos son normales..."
   ]
  },
  {
   "cell_type": "code",
   "execution_count": 28,
   "metadata": {},
   "outputs": [
    {
     "data": {
      "text/html": [
       "<div>\n",
       "<style scoped>\n",
       "    .dataframe tbody tr th:only-of-type {\n",
       "        vertical-align: middle;\n",
       "    }\n",
       "\n",
       "    .dataframe tbody tr th {\n",
       "        vertical-align: top;\n",
       "    }\n",
       "\n",
       "    .dataframe thead th {\n",
       "        text-align: right;\n",
       "    }\n",
       "</style>\n",
       "<table border=\"1\" class=\"dataframe\">\n",
       "  <thead>\n",
       "    <tr style=\"text-align: right;\">\n",
       "      <th>Symbols</th>\n",
       "      <th>AAPL</th>\n",
       "      <th>WMT</th>\n",
       "      <th>IBM</th>\n",
       "      <th>NKE</th>\n",
       "    </tr>\n",
       "  </thead>\n",
       "  <tbody>\n",
       "    <tr>\n",
       "      <th>count</th>\n",
       "      <td>2263.000000</td>\n",
       "      <td>2263.000000</td>\n",
       "      <td>2263.000000</td>\n",
       "      <td>2263.000000</td>\n",
       "    </tr>\n",
       "    <tr>\n",
       "      <th>mean</th>\n",
       "      <td>0.001001</td>\n",
       "      <td>0.000505</td>\n",
       "      <td>0.000157</td>\n",
       "      <td>0.000846</td>\n",
       "    </tr>\n",
       "    <tr>\n",
       "      <th>std</th>\n",
       "      <td>0.016146</td>\n",
       "      <td>0.011076</td>\n",
       "      <td>0.012456</td>\n",
       "      <td>0.015010</td>\n",
       "    </tr>\n",
       "    <tr>\n",
       "      <th>min</th>\n",
       "      <td>-0.123558</td>\n",
       "      <td>-0.101832</td>\n",
       "      <td>-0.082790</td>\n",
       "      <td>-0.094024</td>\n",
       "    </tr>\n",
       "    <tr>\n",
       "      <th>25%</th>\n",
       "      <td>-0.006865</td>\n",
       "      <td>-0.004922</td>\n",
       "      <td>-0.005753</td>\n",
       "      <td>-0.006734</td>\n",
       "    </tr>\n",
       "    <tr>\n",
       "      <th>50%</th>\n",
       "      <td>0.000888</td>\n",
       "      <td>0.000687</td>\n",
       "      <td>0.000305</td>\n",
       "      <td>0.000665</td>\n",
       "    </tr>\n",
       "    <tr>\n",
       "      <th>75%</th>\n",
       "      <td>0.009678</td>\n",
       "      <td>0.006102</td>\n",
       "      <td>0.006525</td>\n",
       "      <td>0.008519</td>\n",
       "    </tr>\n",
       "    <tr>\n",
       "      <th>max</th>\n",
       "      <td>0.088742</td>\n",
       "      <td>0.108984</td>\n",
       "      <td>0.088645</td>\n",
       "      <td>0.122257</td>\n",
       "    </tr>\n",
       "  </tbody>\n",
       "</table>\n",
       "</div>"
      ],
      "text/plain": [
       "Symbols         AAPL          WMT          IBM          NKE\n",
       "count    2263.000000  2263.000000  2263.000000  2263.000000\n",
       "mean        0.001001     0.000505     0.000157     0.000846\n",
       "std         0.016146     0.011076     0.012456     0.015010\n",
       "min        -0.123558    -0.101832    -0.082790    -0.094024\n",
       "25%        -0.006865    -0.004922    -0.005753    -0.006734\n",
       "50%         0.000888     0.000687     0.000305     0.000665\n",
       "75%         0.009678     0.006102     0.006525     0.008519\n",
       "max         0.088742     0.108984     0.088645     0.122257"
      ]
     },
     "execution_count": 28,
     "metadata": {},
     "output_type": "execute_result"
    }
   ],
   "source": [
    "ret.describe()"
   ]
  },
  {
   "cell_type": "code",
   "execution_count": 29,
   "metadata": {},
   "outputs": [
    {
     "data": {
      "text/plain": [
       "(0.0010013619626419092, 0.016146273622642714)"
      ]
     },
     "execution_count": 29,
     "metadata": {},
     "output_type": "execute_result"
    }
   ],
   "source": [
    "# Media y volatilidad de rendimientos\n",
    "ret[\"AAPL\"].mean(), ret[\"AAPL\"].std()"
   ]
  },
  {
   "cell_type": "code",
   "execution_count": 30,
   "metadata": {},
   "outputs": [
    {
     "data": {
      "text/plain": [
       "(Symbols\n",
       " AAPL    0.001001\n",
       " WMT     0.000505\n",
       " IBM     0.000157\n",
       " NKE     0.000846\n",
       " dtype: float64,\n",
       " Symbols\n",
       " AAPL    0.016146\n",
       " WMT     0.011076\n",
       " IBM     0.012456\n",
       " NKE     0.015010\n",
       " dtype: float64)"
      ]
     },
     "execution_count": 30,
     "metadata": {},
     "output_type": "execute_result"
    }
   ],
   "source": [
    "ret.mean(), ret.std()"
   ]
  },
  {
   "cell_type": "markdown",
   "metadata": {},
   "source": [
    "___\n",
    "Recapitulando, hoy aprendimos a obtener datos con pandas-datareader directamente desde fuentes remotas.\n",
    "\n",
    "Por otra parte, estudiamos los rendimientos diarios y dimos con la conclusión de que se podrían modelar como un proceso estocástico estacionario normal."
   ]
  },
  {
   "cell_type": "markdown",
   "metadata": {},
   "source": [
    "La siguiente clase veremos como simular escenarios de comportamiento de los precios futuros (no determinístico, no sabemos como se comporta, muchas posibilidades: montecarlo) a partir de datos de ingresos diarios.\n",
    "\n",
    "Luego, con esas predicciones veremos la probabilidad de que el precio de las acciones quede por encima (debajo) de cierto umbral y con ello tomar decisiones de vender (comprar) estas acciones."
   ]
  },
  {
   "cell_type": "markdown",
   "metadata": {},
   "source": [
    "<script>\n",
    "  $(document).ready(function(){\n",
    "    $('div.prompt').hide();\n",
    "    $('div.back-to-top').hide();\n",
    "    $('nav#menubar').hide();\n",
    "    $('.breadcrumb').hide();\n",
    "    $('.hidden-print').hide();\n",
    "  });\n",
    "</script>\n",
    "\n",
    "<footer id=\"attribution\" style=\"float:right; color:#808080; background:#fff;\">\n",
    "Created with Jupyter by Esteban Jiménez Rodríguez.\n",
    "</footer>"
   ]
  }
 ],
 "metadata": {
  "kernelspec": {
   "display_name": "Python 3",
   "language": "python",
   "name": "python3"
  },
  "language_info": {
   "codemirror_mode": {
    "name": "ipython",
    "version": 3
   },
   "file_extension": ".py",
   "mimetype": "text/x-python",
   "name": "python",
   "nbconvert_exporter": "python",
   "pygments_lexer": "ipython3",
   "version": "3.7.6"
  }
 },
 "nbformat": 4,
 "nbformat_minor": 2
}
